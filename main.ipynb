{
 "cells": [
  {
   "cell_type": "code",
   "execution_count": null,
   "id": "b68bce45",
   "metadata": {},
   "outputs": [
    {
     "name": "stdout",
     "output_type": "stream",
     "text": [
      "corey.schafer@gmail.com\n",
      "Corey Schafer\n",
      "1.05\n",
      "{'first': 'Corey', 'last': 'Schafer', 'role': 'Intern', 'pay': 2100, 'email': 'corey.schafer@gmail.com'}\n",
      "{'__module__': '__main__', 'raise_amount': 1.05, '__init__': <function Employee.__init__ at 0x000001D2838C9800>, 'fullname': <function Employee.fullname at 0x000001D2838C9EE0>, 'apply_raise': <function Employee.apply_raise at 0x000001D2838CA340>, '__dict__': <attribute '__dict__' of 'Employee' objects>, '__weakref__': <attribute '__weakref__' of 'Employee' objects>, '__doc__': None}\n"
     ]
    }
   ],
   "source": [
    "class Employee:\n",
    "    raise_amount = 1.04\n",
    "    \n",
    "    def __init__(self, first: str, last: str, role: str, pay: int):\n",
    "        self.first = first\n",
    "        self.last = last\n",
    "        self.role = role\n",
    "        self.pay = pay\n",
    "        self.email = f\"{first.lower()}.{last.lower()}@gmail.com\"\n",
    "    \n",
    "    def fullname(self):\n",
    "        return f\"{self.first} {self.last}\"\n",
    "\n",
    "    def apply_raise(self):\n",
    "        # self.pay  =  int(self.pay * Employee.raise_amount) \n",
    "        self.pay  =  int(self.pay * self.raise_amount)\n",
    "\n",
    "emp_1  = Employee('Corey', 'Schafer', 'Intern', 2000)\n",
    "emp_2 = Employee('John', 'Cena', 'Fighter', 10000)\n",
    "\n",
    "# print(emp_1)\n",
    "# print(emp_2)\n",
    "\n",
    "# emp_1.first = 'Corey' \n",
    "# emp_2.last  = 'Schafer'\n",
    "\n",
    "print(emp_1.email)\n",
    "print(emp_1.fullname())\n",
    "\n",
    "Employee.raise_amount = 1.05\n",
    "\n",
    "\n",
    "print(emp_1.raise_amount)\n",
    "emp_1.apply_raise()\n",
    "print(emp_1.__dict__)\n",
    "print(Employee.__dict__)\n",
    "\n"
   ]
  },
  {
   "cell_type": "code",
   "execution_count": null,
   "id": "7526f2d1",
   "metadata": {},
   "outputs": [],
   "source": []
  }
 ],
 "metadata": {
  "kernelspec": {
   "display_name": "base",
   "language": "python",
   "name": "python3"
  },
  "language_info": {
   "codemirror_mode": {
    "name": "ipython",
    "version": 3
   },
   "file_extension": ".py",
   "mimetype": "text/x-python",
   "name": "python",
   "nbconvert_exporter": "python",
   "pygments_lexer": "ipython3",
   "version": "3.12.7"
  }
 },
 "nbformat": 4,
 "nbformat_minor": 5
}
