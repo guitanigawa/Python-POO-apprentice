{
 "cells": [
  {
   "cell_type": "code",
   "execution_count": null,
   "id": "b68bce45",
   "metadata": {},
   "outputs": [
    {
     "ename": "IndentationError",
     "evalue": "expected an indented block after function definition on line 35 (3156500916.py, line 39)",
     "output_type": "error",
     "traceback": [
      "\u001b[1;36m  Cell \u001b[1;32mIn[6], line 39\u001b[1;36m\u001b[0m\n\u001b[1;33m    emp_1  = Employee('Corey', 'Schafer', 'Intern', 2000)\u001b[0m\n\u001b[1;37m                                                         ^\u001b[0m\n\u001b[1;31mIndentationError\u001b[0m\u001b[1;31m:\u001b[0m expected an indented block after function definition on line 35\n"
     ]
    }
   ],
   "source": [
    "class Employee:\n",
    "    raise_amount = 1.04\n",
    "    num_of_emps = 0\n",
    "    \n",
    "    def __init__(self, first: str, last: str, role: str, pay: float):\n",
    "        self.first = first\n",
    "        self.last = last\n",
    "        self.role = role\n",
    "        self.pay = pay\n",
    "        \n",
    "        self.email = f\"{first.lower()}.{last.lower()}@gmail.com\"\n",
    "        Employee.num_of_emps += 1\n",
    "\n",
    "    \n",
    "    def fullname(self):\n",
    "        return f\"{self.first} {self.last}\"\n",
    "\n",
    "    def apply_raise(self):\n",
    "        # self.pay  =  int(self.pay * Employee.raise_amount) \n",
    "        self.pay  =  int(self.pay * self.raise_amount)\n",
    "\n",
    "\n",
    "    # general amount\n",
    "    @classmethod\n",
    "    def set_raise_amount(cls, amount):\n",
    "        cls.raise_amount = amount \n",
    "    \n",
    "    @classmethod\n",
    "    def from_string(cls, emp_str: str):\n",
    "        first, last, role, pay = emp_str.split(\"-\")\n",
    "        \n",
    "        return cls(first, last, role, float(pay))\n",
    "\n",
    "    @staticmethod\n",
    "    def is_workday(day):\n",
    "        d_num = day.weekday()\n",
    "\n",
    "        return True if d_num not in (5, 6) else False\n",
    "\n",
    "        \n",
    "        \n",
    "\n",
    "emp_1  = Employee('Corey', 'Schafer', 'Intern', 2000)\n",
    "emp_2 = Employee('John', 'Cena', 'Fighter', 10000)\n",
    "\n",
    "# emp_3 = Employee.from_string(\"Guilherme-Tanigawa-Intern-1000\")\n",
    "\n",
    "# print(emp_3.__dict__)\n",
    "\n",
    "\n"
   ]
  },
  {
   "cell_type": "code",
   "execution_count": null,
   "id": "7526f2d1",
   "metadata": {},
   "outputs": [],
   "source": []
  }
 ],
 "metadata": {
  "kernelspec": {
   "display_name": "base",
   "language": "python",
   "name": "python3"
  },
  "language_info": {
   "codemirror_mode": {
    "name": "ipython",
    "version": 3
   },
   "file_extension": ".py",
   "mimetype": "text/x-python",
   "name": "python",
   "nbconvert_exporter": "python",
   "pygments_lexer": "ipython3",
   "version": "3.12.7"
  }
 },
 "nbformat": 4,
 "nbformat_minor": 5
}
